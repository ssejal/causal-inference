{
 "cells": [
  {
   "cell_type": "code",
   "id": "initial_id",
   "metadata": {
    "collapsed": true,
    "ExecuteTime": {
     "end_time": "2024-10-06T22:14:37.757694Z",
     "start_time": "2024-10-06T22:14:37.754940Z"
    }
   },
   "source": [
    "import numpy as np\n",
    "import statsmodels.api as sm"
   ],
   "outputs": [],
   "execution_count": 28
  },
  {
   "metadata": {
    "ExecuteTime": {
     "end_time": "2024-10-06T22:14:37.779337Z",
     "start_time": "2024-10-06T22:14:37.775850Z"
    }
   },
   "cell_type": "code",
   "source": [
    "def numpy_describe(data):\n",
    "    return {\n",
    "        'count': data.size,\n",
    "        'mean': np.mean(data),\n",
    "        'std': np.std(data),\n",
    "        'min': np.min(data),\n",
    "        '25%': np.percentile(data, 25),\n",
    "        '50%': np.median(data),\n",
    "        '75%': np.percentile(data, 75),\n",
    "        'max': np.max(data)\n",
    "    }"
   ],
   "id": "3c98ab6683ffbc24",
   "outputs": [],
   "execution_count": 29
  },
  {
   "metadata": {
    "ExecuteTime": {
     "end_time": "2024-10-06T22:14:37.787117Z",
     "start_time": "2024-10-06T22:14:37.784300Z"
    }
   },
   "cell_type": "code",
   "source": [
    "# set seed and number of observations\n",
    "\n",
    "np.random.seed(1234)\n",
    "n = 10000"
   ],
   "id": "4ce4825d5dd8786e",
   "outputs": [],
   "execution_count": 30
  },
  {
   "metadata": {
    "ExecuteTime": {
     "end_time": "2024-10-06T22:14:37.806618Z",
     "start_time": "2024-10-06T22:14:37.802980Z"
    }
   },
   "cell_type": "code",
   "source": [
    "# generate potential outcomes y0 and y1\n",
    "\n",
    "y0 = np.random.normal(loc=5, scale=2, size=n)     # loc gives the mean (center), scale gives the standard deviation (spread or width) and size gives the output shape\n",
    "y1 = np.random.normal(loc=3, scale=3, size=n)\n"
   ],
   "id": "2b96d43c89b8fef7",
   "outputs": [],
   "execution_count": 31
  },
  {
   "metadata": {
    "ExecuteTime": {
     "end_time": "2024-10-06T22:14:37.833789Z",
     "start_time": "2024-10-06T22:14:37.826935Z"
    }
   },
   "cell_type": "code",
   "source": "numpy_describe(y0)",
   "id": "7aaa0257eb95e1e6",
   "outputs": [
    {
     "data": {
      "text/plain": [
       "{'count': 10000,\n",
       " 'mean': 5.032252920094396,\n",
       " 'std': 1.9903598111878429,\n",
       " 'min': -2.761796822673216,\n",
       " '25%': 3.7059922342911786,\n",
       " '50%': 5.036171702952106,\n",
       " '75%': 6.3673222747998555,\n",
       " 'max': 11.575575794344036}"
      ]
     },
     "execution_count": 32,
     "metadata": {},
     "output_type": "execute_result"
    }
   ],
   "execution_count": 32
  },
  {
   "metadata": {
    "ExecuteTime": {
     "end_time": "2024-10-06T22:14:37.928936Z",
     "start_time": "2024-10-06T22:14:37.922226Z"
    }
   },
   "cell_type": "code",
   "source": "numpy_describe(y1)",
   "id": "cb520b9d31bffa44",
   "outputs": [
    {
     "data": {
      "text/plain": [
       "{'count': 10000,\n",
       " 'mean': 2.993513067511328,\n",
       " 'std': 2.982285146387646,\n",
       " 'min': -8.453567599471421,\n",
       " '25%': 0.9713242669213928,\n",
       " '50%': 2.9688533869384752,\n",
       " '75%': 5.007346796864675,\n",
       " 'max': 14.104887297872574}"
      ]
     },
     "execution_count": 33,
     "metadata": {},
     "output_type": "execute_result"
    }
   ],
   "execution_count": 33
  },
  {
   "metadata": {
    "ExecuteTime": {
     "end_time": "2024-10-06T22:14:37.969656Z",
     "start_time": "2024-10-06T22:14:37.961095Z"
    }
   },
   "cell_type": "code",
   "source": [
    "# generate delta\n",
    "\n",
    "delta = y1 - y0\n",
    "\n",
    "numpy_describe(delta)"
   ],
   "id": "b4fec76567275c3c",
   "outputs": [
    {
     "data": {
      "text/plain": [
       "{'count': 10000,\n",
       " 'mean': -2.0387398525830682,\n",
       " 'std': 3.596019942690159,\n",
       " 'min': -17.78560429177407,\n",
       " '25%': -4.483421007554596,\n",
       " '50%': -2.0298129794790816,\n",
       " '75%': 0.36692827783590365,\n",
       " 'max': 11.264692643618698}"
      ]
     },
     "execution_count": 34,
     "metadata": {},
     "output_type": "execute_result"
    }
   ],
   "execution_count": 34
  },
  {
   "metadata": {
    "ExecuteTime": {
     "end_time": "2024-10-06T22:16:39.894048Z",
     "start_time": "2024-10-06T22:16:39.890724Z"
    }
   },
   "cell_type": "code",
   "source": [
    "# ATE - average treatment effect is the population average of all individual treatment effects\n",
    "# E[delta] = E[Y1 - Y0] = E[Y1] - E[Y0]\n",
    "\n",
    "ate = np.mean(delta)\n",
    "\n",
    "print(f\"ATE: {ate}\")"
   ],
   "id": "a4d2c0453c276c95",
   "outputs": [
    {
     "name": "stdout",
     "output_type": "stream",
     "text": [
      "ATE: -2.0387398525830682\n"
     ]
    }
   ],
   "execution_count": 39
  },
  {
   "metadata": {
    "ExecuteTime": {
     "end_time": "2024-10-06T22:14:38.107217Z",
     "start_time": "2024-10-06T22:14:38.101693Z"
    }
   },
   "cell_type": "code",
   "source": [
    "# If the selection of the treatment is made on y0\n",
    "# If a person's y0 is above 6.3 (above 75th percentile, they get treated\n",
    "\n",
    "d = (y0 >= 6.3).astype(int)\n",
    "\n",
    "# here we are basing the treatment assignment on y0, D is the treatment assignment which selects one of the potential outcomes based on the switching equation\n",
    "# Yi = Di * Y1i + (1 - Di) * Y0i\n",
    "# which means the individual i's realized outcomes Yi is determined by the treatment assignment Di which selects one of the potential outcomes\n",
    "# Yi = Y1i if Di = 1\n",
    "# Yi = Y0i if Di = 0"
   ],
   "id": "7af63cad83b2674d",
   "outputs": [],
   "execution_count": 36
  },
  {
   "metadata": {
    "ExecuteTime": {
     "end_time": "2024-10-06T22:16:57.126801Z",
     "start_time": "2024-10-06T22:16:57.123427Z"
    }
   },
   "cell_type": "code",
   "source": [
    "# ATT - Average treatment effect on the treated\n",
    "# E[delta|D = 1] = E[Y1 - Y0|D = 1] = E[Y1|D = 1] - E[Y0|D = 1]\n",
    "\n",
    "att = np.mean(delta[d == 1])\n",
    "\n",
    "print(f\"ATT: {att}\")"
   ],
   "id": "78f121b664b743cf",
   "outputs": [
    {
     "name": "stdout",
     "output_type": "stream",
     "text": [
      "ATT: -4.524642570784161\n"
     ]
    }
   ],
   "execution_count": 40
  },
  {
   "metadata": {
    "ExecuteTime": {
     "end_time": "2024-10-06T22:17:06.950138Z",
     "start_time": "2024-10-06T22:17:06.946831Z"
    }
   },
   "cell_type": "code",
   "source": [
    "# ATU - average treatment effect on the untreated\n",
    "# E[delta|D = 0] = E[Y1 - Y0|D = 0] = E[Y1|D = 0] - E[Y0|D = 0]\n",
    "\n",
    "atu = np.mean(delta[d == 0])\n",
    "\n",
    "print(f\"ATU: {atu}\")"
   ],
   "id": "866b7ca9d948e841",
   "outputs": [
    {
     "name": "stdout",
     "output_type": "stream",
     "text": [
      "ATU: -1.1520978438799516\n"
     ]
    }
   ],
   "execution_count": 41
  },
  {
   "metadata": {
    "ExecuteTime": {
     "end_time": "2024-10-06T22:17:23.771821Z",
     "start_time": "2024-10-06T22:17:23.768171Z"
    }
   },
   "cell_type": "code",
   "source": [
    "# E[Y0|D = 1]\n",
    "\n",
    "ey01 = np.mean(y0[d == 1])\n",
    "\n",
    "print(f\"E[Y0|D=1]: {ey01}\")"
   ],
   "id": "1032448aadea3d97",
   "outputs": [
    {
     "name": "stdout",
     "output_type": "stream",
     "text": [
      "E[Y0|D=1]: 7.499934994080874\n"
     ]
    }
   ],
   "execution_count": 42
  },
  {
   "metadata": {
    "ExecuteTime": {
     "end_time": "2024-10-06T22:18:12.270005Z",
     "start_time": "2024-10-06T22:18:12.266497Z"
    }
   },
   "cell_type": "code",
   "source": [
    "# E[Y0|D = 0]\n",
    "\n",
    "ey00 = np.mean(y0[d == 0])\n",
    "\n",
    "print(f\"E[Y0|D=0]: {ey00}\")"
   ],
   "id": "4a04190daa8b3914",
   "outputs": [
    {
     "name": "stdout",
     "output_type": "stream",
     "text": [
      "E[Y0|D=0]: 4.15210963254719\n"
     ]
    }
   ],
   "execution_count": 43
  },
  {
   "metadata": {
    "ExecuteTime": {
     "end_time": "2024-10-06T22:20:42.758836Z",
     "start_time": "2024-10-06T22:20:42.755420Z"
    }
   },
   "cell_type": "code",
   "source": [
    "# Selection bias\n",
    "# selection bias = E[Y0|D=1] - E[Y0|D=0]\n",
    "\n",
    "selection_bias = ey01 - ey00\n",
    "\n",
    "print(f\"Selection bias: {selection_bias}\")"
   ],
   "id": "f3d4cbe6960b85ce",
   "outputs": [
    {
     "name": "stdout",
     "output_type": "stream",
     "text": [
      "Selection bias: 3.347825361533684\n"
     ]
    }
   ],
   "execution_count": 44
  },
  {
   "metadata": {
    "ExecuteTime": {
     "end_time": "2024-10-06T22:23:34.719478Z",
     "start_time": "2024-10-06T22:23:34.716241Z"
    }
   },
   "cell_type": "code",
   "source": [
    "# Proportion treated\n",
    "# this term gives us the pi (part of the population that is treated) needed for the heterogeneous treatment effect bias\n",
    "# heterogeneous treatment effect bias = (1 - pi)(ATT - ATU)\n",
    "\n",
    "pi = np.mean(d)\n",
    "\n",
    "print(f\"Pi (Proportion treated): {pi}\")"
   ],
   "id": "4366a14f15aa0215",
   "outputs": [
    {
     "name": "stdout",
     "output_type": "stream",
     "text": [
      "Pi (Proportion treated): 0.2629\n"
     ]
    }
   ],
   "execution_count": 45
  },
  {
   "metadata": {
    "ExecuteTime": {
     "end_time": "2024-10-06T22:29:31.530095Z",
     "start_time": "2024-10-06T22:29:31.526513Z"
    }
   },
   "cell_type": "code",
   "source": [
    "hetero_treatment_effect_bias = (1 - pi) * (att - atu)\n",
    "\n",
    "print(f\"Heterogeneous treatment effect bias: {hetero_treatment_effect_bias}\")"
   ],
   "id": "798fb45e8f584bbf",
   "outputs": [
    {
     "name": "stdout",
     "output_type": "stream",
     "text": [
      "Heterogeneous treatment effect bias: -2.485902718201093\n"
     ]
    }
   ],
   "execution_count": 47
  },
  {
   "metadata": {
    "ExecuteTime": {
     "end_time": "2024-10-06T22:25:42.619971Z",
     "start_time": "2024-10-06T22:25:42.615864Z"
    }
   },
   "cell_type": "code",
   "source": [
    "# Observed outcome (realized outcome) based on the switching equation mentioned above\n",
    "\n",
    "y = d * y1 + (1 - d) * y0\n",
    "\n",
    "print(f\"Observed outcome: {y}\")"
   ],
   "id": "8bfa0c7c1ba57e50",
   "outputs": [
    {
     "name": "stdout",
     "output_type": "stream",
     "text": [
      "Observed outcome: [5.94287033 2.61804861 4.99872323 ... 2.89507861 4.0046138  4.4879876 ]\n"
     ]
    }
   ],
   "execution_count": 46
  },
  {
   "metadata": {
    "ExecuteTime": {
     "end_time": "2024-10-06T22:30:05.431952Z",
     "start_time": "2024-10-06T22:30:05.428204Z"
    }
   },
   "cell_type": "code",
   "source": [
    "# Simple difference in mean outcomes (SDO)\n",
    "# SDO is essentially E[Y1|D=1] - E[Y0|D=0]\n",
    "# when we estimate it, it becomes a sum of three things ATE + selection bias + heterogeneous treatment effect bias\n",
    "\n",
    "sdo = ate + selection_bias + hetero_treatment_effect_bias\n",
    "\n",
    "print(f\"SDO: {sdo}\")"
   ],
   "id": "f6d800f9310988ca",
   "outputs": [
    {
     "name": "stdout",
     "output_type": "stream",
     "text": [
      "SDO: -1.1768172092504772\n"
     ]
    }
   ],
   "execution_count": 48
  },
  {
   "metadata": {
    "ExecuteTime": {
     "end_time": "2024-10-06T22:41:15.418200Z",
     "start_time": "2024-10-06T22:41:15.413620Z"
    }
   },
   "cell_type": "code",
   "source": [
    "# Total bias is SDO - ATE in the estimation\n",
    "\n",
    "bias = sdo - ate\n",
    "\n",
    "print(f\"Bias: {bias}\")"
   ],
   "id": "b1ed285e0ba8463b",
   "outputs": [
    {
     "name": "stdout",
     "output_type": "stream",
     "text": [
      "Bias: 0.861922643332591\n"
     ]
    }
   ],
   "execution_count": 52
  },
  {
   "metadata": {
    "ExecuteTime": {
     "end_time": "2024-10-06T22:32:19.470952Z",
     "start_time": "2024-10-06T22:32:19.446681Z"
    }
   },
   "cell_type": "code",
   "source": [
    "# Let us see what regression of y (realized/observed outcome) on d (treatment assignment) is\n",
    "\n",
    "X = sm.add_constant(d)\n",
    "model_select_on_y0 = sm.OLS(y, X).fit()\n",
    "print(model_select_on_y0.summary())"
   ],
   "id": "4ba2efefc94546ad",
   "outputs": [
    {
     "name": "stdout",
     "output_type": "stream",
     "text": [
      "                            OLS Regression Results                            \n",
      "==============================================================================\n",
      "Dep. Variable:                      y   R-squared:                       0.064\n",
      "Model:                            OLS   Adj. R-squared:                  0.064\n",
      "Method:                 Least Squares   F-statistic:                     688.7\n",
      "Date:                Sun, 06 Oct 2024   Prob (F-statistic):          7.48e-147\n",
      "Time:                        15:32:19   Log-Likelihood:                -20989.\n",
      "No. Observations:               10000   AIC:                         4.198e+04\n",
      "Df Residuals:                    9998   BIC:                         4.200e+04\n",
      "Df Model:                           1                                         \n",
      "Covariance Type:            nonrobust                                         \n",
      "==============================================================================\n",
      "                 coef    std err          t      P>|t|      [0.025      0.975]\n",
      "------------------------------------------------------------------------------\n",
      "const          4.1521      0.023    180.584      0.000       4.107       4.197\n",
      "x1            -1.1768      0.045    -26.243      0.000      -1.265      -1.089\n",
      "==============================================================================\n",
      "Omnibus:                      514.003   Durbin-Watson:                   1.971\n",
      "Prob(Omnibus):                  0.000   Jarque-Bera (JB):             1411.573\n",
      "Skew:                          -0.262   Prob(JB):                    3.03e-307\n",
      "Kurtosis:                       4.764   Cond. No.                         2.46\n",
      "==============================================================================\n",
      "\n",
      "Notes:\n",
      "[1] Standard Errors assume that the covariance matrix of the errors is correctly specified.\n"
     ]
    }
   ],
   "execution_count": 49
  },
  {
   "metadata": {
    "ExecuteTime": {
     "end_time": "2024-10-06T22:37:54.227674Z",
     "start_time": "2024-10-06T22:37:54.225341Z"
    }
   },
   "cell_type": "code",
   "source": [
    "# the E[Y0|D=0] is the coefficient for the constant\n",
    "# the SDO is the coefficient of the x1"
   ],
   "id": "21b2407ba75e489d",
   "outputs": [],
   "execution_count": 50
  },
  {
   "metadata": {
    "ExecuteTime": {
     "end_time": "2024-10-06T22:40:02.435290Z",
     "start_time": "2024-10-06T22:40:02.432544Z"
    }
   },
   "cell_type": "code",
   "source": [
    "# if the selection of the treatment is on y1\n",
    "# if a person's y1 is above 1 (above 25th percentile), they get treated\n",
    "\n",
    "d = (y1 >= 1).astype(int)\n",
    "\n",
    "# treatment assignment d is based on y1"
   ],
   "id": "aa6fcdf0379b8a88",
   "outputs": [],
   "execution_count": 51
  },
  {
   "metadata": {
    "ExecuteTime": {
     "end_time": "2024-10-06T22:44:14.504677Z",
     "start_time": "2024-10-06T22:44:14.481221Z"
    }
   },
   "cell_type": "code",
   "source": [
    "# Repeating the calcs for this treatment\n",
    "\n",
    "# ATT\n",
    "att = np.mean(delta[d == 1])\n",
    "print(f\"ATT: {att}\")\n",
    "\n",
    "# ATU\n",
    "atu = np.mean(delta[d == 0])\n",
    "print(f\"ATU: {atu}\")\n",
    "\n",
    "# E[Y0|D=1]\n",
    "ey01 = np.mean(y0[d == 1])\n",
    "print(f\"E[Y0|D=1]: {ey01}\")\n",
    "\n",
    "# E[Y0|D=0]\n",
    "ey00 = np.mean(y0[d == 0])\n",
    "print(f\"E[Y0|D=0]: {ey00}\")\n",
    "\n",
    "# Selection Bias\n",
    "selection_bias = ey01 - ey00\n",
    "print(f\"Selection Bias: {selection_bias}\")\n",
    "\n",
    "# Proportion treated\n",
    "pi = np.mean(d)\n",
    "print(f\"Pi (Proportion treated): {pi}\")\n",
    "\n",
    "# Heterogeneous treatment effect bias\n",
    "hetero_treatment_effect_bias = (1 - pi) * (att - atu)\n",
    "print(f\"Heterogeneous treatment effect bias: {hetero_treatment_effect_bias}\")\n",
    "\n",
    "# Observed outcome y\n",
    "y = d * y1 + (1 - d) * y0  # Switching equation\n",
    "\n",
    "# Simple Difference in mean Outcomes (sdo)\n",
    "sdo = ate + selection_bias + hetero_treatment_effect_bias\n",
    "print(f\"SDO: {sdo}\")\n",
    "\n",
    "# Regression of y on d\n",
    "X = sm.add_constant(d)\n",
    "model_select_on_y1 = sm.OLS(y, X).fit()\n",
    "print(model_select_on_y1.summary())\n",
    "\n",
    "# Bias\n",
    "bias = sdo - ate\n",
    "print(f\"Bias: {bias}\")"
   ],
   "id": "109b47201b271cdc",
   "outputs": [
    {
     "name": "stdout",
     "output_type": "stream",
     "text": [
      "ATT: -0.7646986198916363\n",
      "ATU: -5.790502299147778\n",
      "E[Y0|D=1]: 5.037594206309802\n",
      "E[Y0|D=0]: 5.016524043724377\n",
      "Selection Bias: 0.021070162585424157\n",
      "Pi (Proportion treated): 0.7465\n",
      "Heterogeneous treatment effect bias: 1.2740412326914314\n",
      "SDO: -0.7436284573062126\n",
      "                            OLS Regression Results                            \n",
      "==============================================================================\n",
      "Dep. Variable:                      y   R-squared:                       0.023\n",
      "Model:                            OLS   Adj. R-squared:                  0.023\n",
      "Method:                 Least Squares   F-statistic:                     232.3\n",
      "Date:                Sun, 06 Oct 2024   Prob (F-statistic):           7.29e-52\n",
      "Time:                        15:44:14   Log-Likelihood:                -21715.\n",
      "No. Observations:               10000   AIC:                         4.343e+04\n",
      "Df Residuals:                    9998   BIC:                         4.345e+04\n",
      "Df Model:                           1                                         \n",
      "Covariance Type:            nonrobust                                         \n",
      "==============================================================================\n",
      "                 coef    std err          t      P>|t|      [0.025      0.975]\n",
      "------------------------------------------------------------------------------\n",
      "const          5.0165      0.042    118.995      0.000       4.934       5.099\n",
      "x1            -0.7436      0.049    -15.240      0.000      -0.839      -0.648\n",
      "==============================================================================\n",
      "Omnibus:                      486.250   Durbin-Watson:                   1.985\n",
      "Prob(Omnibus):                  0.000   Jarque-Bera (JB):              558.701\n",
      "Skew:                           0.574   Prob(JB):                    4.78e-122\n",
      "Kurtosis:                       3.153   Cond. No.                         3.75\n",
      "==============================================================================\n",
      "\n",
      "Notes:\n",
      "[1] Standard Errors assume that the covariance matrix of the errors is correctly specified.\n",
      "Bias: 1.2951113952768556\n"
     ]
    }
   ],
   "execution_count": 54
  },
  {
   "metadata": {
    "ExecuteTime": {
     "end_time": "2024-10-06T22:47:43.152124Z",
     "start_time": "2024-10-06T22:47:43.149496Z"
    }
   },
   "cell_type": "code",
   "source": [
    "# ATE stays the same\n",
    "# ATTs and ATUs change as it is different set of people in each treatment"
   ],
   "id": "1ea64d535f0242e4",
   "outputs": [],
   "execution_count": 55
  },
  {
   "metadata": {},
   "cell_type": "code",
   "outputs": [],
   "execution_count": null,
   "source": "# ",
   "id": "6750ed9ad06978fb"
  }
 ],
 "metadata": {
  "kernelspec": {
   "display_name": "Python 3",
   "language": "python",
   "name": "python3"
  },
  "language_info": {
   "codemirror_mode": {
    "name": "ipython",
    "version": 2
   },
   "file_extension": ".py",
   "mimetype": "text/x-python",
   "name": "python",
   "nbconvert_exporter": "python",
   "pygments_lexer": "ipython2",
   "version": "2.7.6"
  }
 },
 "nbformat": 4,
 "nbformat_minor": 5
}
